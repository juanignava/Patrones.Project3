{
 "cells": [
  {
   "attachments": {},
   "cell_type": "markdown",
   "metadata": {},
   "source": [
    "# K-means sin autoencoders"
   ]
  },
  {
   "cell_type": "code",
   "execution_count": 5,
   "metadata": {},
   "outputs": [],
   "source": [
    "import numpy as np\n",
    "import os\n",
    "from sklearn.cluster import MiniBatchKMeans\n",
    "from sklearn.cluster import KMeans\n",
    "from PIL import Image\n",
    "\n",
    "# Directorio que contiene las imágenes\n",
    "image_directory = \"images/analysis_dataset\"\n",
    "\n",
    "# Inicializar una lista vacía para almacenar las imágenes\n",
    "images = []\n",
    "\n",
    "# Tamaño del lote\n",
    "batch_size = 100\n",
    "\n",
    "# Recorrer las subcarpetas dentro del directorio\n",
    "for root, dirs, files in os.walk(image_directory):\n",
    "    for directory in dirs:\n",
    "        subdir = os.path.join(root, directory)\n",
    "        # Obtener la lista de nombres de archivo de las imágenes en la subcarpeta\n",
    "        image_files = os.listdir(subdir)\n",
    "\n",
    "        # Procesar las imágenes en lotes\n",
    "        for i in range(0, len(image_files), batch_size):\n",
    "            # Cargar y convertir las imágenes en matrices numpy\n",
    "            batch_images = []\n",
    "            for file in image_files[i:i+batch_size]:\n",
    "                image_path = os.path.join(subdir, file)\n",
    "                image = Image.open(image_path)\n",
    "                image_array = np.array(image)\n",
    "                batch_images.append(image_array)\n",
    "            \n",
    "            # Concatenar las matrices del lote en un solo array\n",
    "            batch_X = np.concatenate(batch_images)\n",
    "            images.append(batch_X)\n",
    "\n",
    "# Concatenar los lotes en un solo array\n",
    "X = np.concatenate(images)\n"
   ]
  },
  {
   "cell_type": "code",
   "execution_count": 9,
   "metadata": {},
   "outputs": [
    {
     "name": "stdout",
     "output_type": "stream",
     "text": [
      "437760000\n"
     ]
    }
   ],
   "source": [
    "# Aplanar X\n",
    "X = X.reshape(-1, 3)  # Aplanar las imágenes en un vector unidimensional (num_imagenes * 10000, 3)\n",
    "print(len(X))"
   ]
  },
  {
   "cell_type": "code",
   "execution_count": 10,
   "metadata": {},
   "outputs": [
    {
     "ename": "",
     "evalue": "",
     "output_type": "error",
     "traceback": [
      "\u001b[1;31mCanceled future for execute_request message before replies were done"
     ]
    },
    {
     "ename": "",
     "evalue": "",
     "output_type": "error",
     "traceback": [
      "\u001b[1;31mThe Kernel crashed while executing code in the the current cell or a previous cell. Please review the code in the cell(s) to identify a possible cause of the failure. Click <a href='https://aka.ms/vscodeJupyterKernelCrash'>here</a> for more info. View Jupyter <a href='command:jupyter.viewOutput'>log</a> for further details."
     ]
    }
   ],
   "source": [
    "kmeans = KMeans(n_clusters=38)\n",
    "kmeans.fit(X)"
   ]
  },
  {
   "cell_type": "code",
   "execution_count": null,
   "metadata": {},
   "outputs": [],
   "source": [
    "# Obtener las etiquetas de cluster asignadas a cada punto de datos\n",
    "labels = kmeans.labels_\n",
    "\n",
    "# Obtener las coordenadas de los centroides\n",
    "centroids = kmeans.cluster_centers_\n",
    "\n",
    "# Imprimir las etiquetas de cluster y los centroides\n",
    "print(\"Etiquetas de cluster:\", labels)\n",
    "print(\"Coordenadas de los centroides:\", centroids)"
   ]
  }
 ],
 "metadata": {
  "kernelspec": {
   "display_name": "Python 3",
   "language": "python",
   "name": "python3"
  },
  "language_info": {
   "codemirror_mode": {
    "name": "ipython",
    "version": 3
   },
   "file_extension": ".py",
   "mimetype": "text/x-python",
   "name": "python",
   "nbconvert_exporter": "python",
   "pygments_lexer": "ipython3",
   "version": "3.8.10"
  },
  "orig_nbformat": 4
 },
 "nbformat": 4,
 "nbformat_minor": 2
}
